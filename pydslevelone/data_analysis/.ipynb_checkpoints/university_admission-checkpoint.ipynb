{
 "cells": [
  {
   "cell_type": "code",
   "execution_count": 1,
   "metadata": {},
   "outputs": [],
   "source": [
    "import pandas as pd                #for handling datasets\n",
    "import statsmodels.api as sm       #for statistical modeling\n",
    "import pylab as pl                 #for plotting\n",
    "import numpy as np                 #for numerical computation"
   ]
  },
  {
   "cell_type": "code",
   "execution_count": 2,
   "metadata": {},
   "outputs": [],
   "source": [
    "dfTrain = pd.read_csv(\"train_university_admission_data.csv\")\n",
    "dfTest = pd.read_csv(\"test_university_admission_data.csv\")"
   ]
  },
  {
   "cell_type": "code",
   "execution_count": 3,
   "metadata": {},
   "outputs": [
    {
     "name": "stdout",
     "output_type": "stream",
     "text": [
      "   admit  gre   gpa prestige\n",
      "0      0  380  3.61     good\n",
      "1      1  660  3.67     good\n",
      "2      1  800  4.00     best\n",
      "3      1  640  3.19       ok\n",
      "4      0  520  2.93       ok\n"
     ]
    }
   ],
   "source": [
    "print(dfTrain.head())"
   ]
  },
  {
   "cell_type": "code",
   "execution_count": null,
   "metadata": {},
   "outputs": [],
   "source": [
    "d"
   ]
  },
  {
   "cell_type": "code",
   "execution_count": 4,
   "metadata": {},
   "outputs": [
    {
     "name": "stdout",
     "output_type": "stream",
     "text": [
      "   gre   gpa  prestige\n",
      "0  640  3.30  veryGood\n",
      "1  660  3.60      good\n",
      "2  400  3.15  veryGood\n",
      "3  680  3.98  veryGood\n",
      "4  220  2.83      good\n"
     ]
    }
   ],
   "source": [
    "print(dfTest.head())"
   ]
  },
  {
   "cell_type": "code",
   "execution_count": 5,
   "metadata": {},
   "outputs": [
    {
     "name": "stdout",
     "output_type": "stream",
     "text": [
      "            admit         gre         gpa\n",
      "count  300.000000  300.000000  300.000000\n",
      "mean     0.306667  590.866667    3.386233\n",
      "std      0.461880  117.717630    0.374880\n",
      "min      0.000000  300.000000    2.260000\n",
      "25%      0.000000  515.000000    3.130000\n",
      "50%      0.000000  600.000000    3.390000\n",
      "75%      1.000000  680.000000    3.642500\n",
      "max      1.000000  800.000000    4.000000\n"
     ]
    }
   ],
   "source": [
    "print(dfTrain.describe())"
   ]
  },
  {
   "cell_type": "code",
   "execution_count": 6,
   "metadata": {},
   "outputs": [
    {
     "name": "stdout",
     "output_type": "stream",
     "text": [
      "admit      0.46188\n",
      "gre      117.71763\n",
      "gpa        0.37488\n",
      "dtype: float64\n"
     ]
    }
   ],
   "source": [
    "print (dfTrain.std())"
   ]
  },
  {
   "cell_type": "code",
   "execution_count": 7,
   "metadata": {},
   "outputs": [
    {
     "name": "stdout",
     "output_type": "stream",
     "text": [
      "prestige  best  good  ok  veryGood\n",
      "admit                             \n",
      "0           20    73  47        68\n",
      "1           25    19   9        39\n"
     ]
    }
   ],
   "source": [
    "print (pd.crosstab(dfTrain['admit'], dfTrain['prestige'], rownames=['admit']))"
   ]
  },
  {
   "cell_type": "code",
   "execution_count": 8,
   "metadata": {},
   "outputs": [
    {
     "data": {
      "text/plain": [
       "admit\n",
       "0    208\n",
       "1     92\n",
       "dtype: int64"
      ]
     },
     "execution_count": 8,
     "metadata": {},
     "output_type": "execute_result"
    }
   ],
   "source": [
    "dfTrain.groupby('admit').size()"
   ]
  },
  {
   "cell_type": "code",
   "execution_count": 9,
   "metadata": {},
   "outputs": [
    {
     "data": {
      "text/plain": [
       "prestige\n",
       "best         45\n",
       "good         92\n",
       "ok           56\n",
       "veryGood    107\n",
       "dtype: int64"
      ]
     },
     "execution_count": 9,
     "metadata": {},
     "output_type": "execute_result"
    }
   ],
   "source": [
    "dfTrain.groupby('prestige').size()"
   ]
  },
  {
   "cell_type": "code",
   "execution_count": 10,
   "metadata": {},
   "outputs": [
    {
     "data": {
      "text/html": [
       "<div>\n",
       "<style scoped>\n",
       "    .dataframe tbody tr th:only-of-type {\n",
       "        vertical-align: middle;\n",
       "    }\n",
       "\n",
       "    .dataframe tbody tr th {\n",
       "        vertical-align: top;\n",
       "    }\n",
       "\n",
       "    .dataframe thead th {\n",
       "        text-align: right;\n",
       "    }\n",
       "</style>\n",
       "<table border=\"1\" class=\"dataframe\">\n",
       "  <thead>\n",
       "    <tr style=\"text-align: right;\">\n",
       "      <th></th>\n",
       "      <th>gre</th>\n",
       "      <th>gpa</th>\n",
       "    </tr>\n",
       "    <tr>\n",
       "      <th>admit</th>\n",
       "      <th></th>\n",
       "      <th></th>\n",
       "    </tr>\n",
       "  </thead>\n",
       "  <tbody>\n",
       "    <tr>\n",
       "      <td>0</td>\n",
       "      <td>573.461538</td>\n",
       "      <td>3.336587</td>\n",
       "    </tr>\n",
       "    <tr>\n",
       "      <td>1</td>\n",
       "      <td>630.217391</td>\n",
       "      <td>3.498478</td>\n",
       "    </tr>\n",
       "  </tbody>\n",
       "</table>\n",
       "</div>"
      ],
      "text/plain": [
       "              gre       gpa\n",
       "admit                      \n",
       "0      573.461538  3.336587\n",
       "1      630.217391  3.498478"
      ]
     },
     "execution_count": 10,
     "metadata": {},
     "output_type": "execute_result"
    }
   ],
   "source": [
    "dfTrain.groupby('admit').mean()"
   ]
  },
  {
   "cell_type": "code",
   "execution_count": 11,
   "metadata": {
    "scrolled": true
   },
   "outputs": [
    {
     "data": {
      "text/plain": [
       "<matplotlib.axes._subplots.AxesSubplot at 0x146248d6d88>"
      ]
     },
     "execution_count": 11,
     "metadata": {},
     "output_type": "execute_result"
    },
    {
     "data": {
      "image/png": "[encoded data removed]",
      "text/plain": [
       "<Figure size 432x288 with 1 Axes>"
      ]
     },
     "metadata": {
      "needs_background": "light"
     },
     "output_type": "display_data"
    }
   ],
   "source": [
    "#dfTrain['gpa'].hist()\n",
    "dfTrain['gre'].hist()"
   ]
  },
  {
   "cell_type": "code",
   "execution_count": 12,
   "metadata": {},
   "outputs": [
    {
     "data": {
      "image/png": "[encoded data removed]",
      "text/plain": [
       "<Figure size 432x288 with 1 Axes>"
      ]
     },
     "metadata": {
      "needs_background": "light"
     },
     "output_type": "display_data"
    }
   ],
   "source": [
    "pd.crosstab(dfTrain.gre, dfTrain.admit.astype(bool)).plot(kind='bar')\n",
    "pl.title('GRE score by Admission Status')\n",
    "pl.xlabel('GRE score')\n",
    "pl.ylabel('Frequency')\n",
    "pl.show()"
   ]
  },
  {
   "cell_type": "code",
   "execution_count": 86,
   "metadata": {},
   "outputs": [
    {
     "data": {
      "image/png": "[encoded data removed]",
      "text/plain": [
       "<Figure size 432x288 with 1 Axes>"
      ]
     },
     "metadata": {
      "needs_background": "light"
     },
     "output_type": "display_data"
    }
   ],
   "source": [
    "pd.crosstab(dfTrain.gpa, dfTrain.admit.astype(bool)).plot(kind='bar')\n",
    "pl.title('GPA score by Admission Status')\n",
    "pl.xlabel('GPA score')\n",
    "pl.ylabel('Frequency')\n",
    "pl.show()"
   ]
  },
  {
   "cell_type": "code",
   "execution_count": 72,
   "metadata": {},
   "outputs": [
    {
     "name": "stdout",
     "output_type": "stream",
     "text": [
      "   prestige_best  prestige_good  prestige_ok  prestige_veryGood\n",
      "0              0              1            0                  0\n",
      "1              0              1            0                  0\n",
      "2              1              0            0                  0\n",
      "3              0              0            1                  0\n",
      "4              0              0            1                  0\n"
     ]
    }
   ],
   "source": [
    "dummy_ranks = pd.get_dummies(dfTrain['prestige'], prefix='prestige')\n",
    "print (dummy_ranks.head())"
   ]
  },
  {
   "cell_type": "code",
   "execution_count": 48,
   "metadata": {},
   "outputs": [
    {
     "name": "stdout",
     "output_type": "stream",
     "text": [
      "   admit  gre   gpa  prestige_good  prestige_ok  prestige_veryGood\n",
      "0      0  380  3.61              1            0                  0\n",
      "1      1  660  3.67              1            0                  0\n",
      "2      1  800  4.00              0            0                  0\n",
      "3      1  640  3.19              0            1                  0\n",
      "4      0  520  2.93              0            1                  0\n"
     ]
    }
   ],
   "source": [
    "cols_to_keep = ['admit', 'gre', 'gpa']\n",
    "data = dfTrain[cols_to_keep].join(dummy_ranks.loc[:, 'prestige_good':])\n",
    "print (data.head())"
   ]
  },
  {
   "cell_type": "code",
   "execution_count": 49,
   "metadata": {},
   "outputs": [
    {
     "name": "stdout",
     "output_type": "stream",
     "text": [
      "   admit  gre   gpa  prestige_good  prestige_ok  prestige_veryGood  intercept\n",
      "0      0  380  3.61              1            0                  0        1.0\n",
      "1      1  660  3.67              1            0                  0        1.0\n",
      "2      1  800  4.00              0            0                  0        1.0\n",
      "3      1  640  3.19              0            1                  0        1.0\n",
      "4      0  520  2.93              0            1                  0        1.0\n",
      "Index(['gre', 'gpa', 'prestige_good', 'prestige_ok', 'prestige_veryGood',\n",
      "       'intercept'],\n",
      "      dtype='object')\n"
     ]
    }
   ],
   "source": [
    "data['intercept'] = 1.0\n",
    "\n",
    "print (data.head())\n",
    "\n",
    "train_cols = data.columns[1:]\n",
    "print (data.columns[1:])"
   ]
  },
  {
   "cell_type": "code",
   "execution_count": 87,
   "metadata": {},
   "outputs": [
    {
     "name": "stdout",
     "output_type": "stream",
     "text": [
      "Optimization terminated successfully.\n",
      "         Current function value: 0.546708\n",
      "         Iterations 6\n",
      "                           Logit Regression Results                           \n",
      "==============================================================================\n",
      "Dep. Variable:                  admit   No. Observations:                  300\n",
      "Model:                          Logit   Df Residuals:                      294\n",
      "Method:                           MLE   Df Model:                            5\n",
      "Date:                Wed, 26 Feb 2020   Pseudo R-squ.:                  0.1131\n",
      "Time:                        08:51:16   Log-Likelihood:                -164.01\n",
      "converged:                       True   LL-Null:                       -184.92\n",
      "Covariance Type:            nonrobust   LLR p-value:                 6.406e-08\n",
      "=====================================================================================\n",
      "                        coef    std err          z      P>|z|      [0.025      0.975]\n",
      "-------------------------------------------------------------------------------------\n",
      "gre                   0.0030      0.001      2.346      0.019       0.000       0.006\n",
      "gpa                   0.9316      0.406      2.294      0.022       0.136       1.728\n",
      "prestige_good        -1.5434      0.413     -3.740      0.000      -2.352      -0.735\n",
      "prestige_ok          -1.6848      0.487     -3.457      0.001      -2.640      -0.730\n",
      "prestige_veryGood    -0.6248      0.378     -1.654      0.098      -1.365       0.116\n",
      "intercept            -4.8787      1.416     -3.445      0.001      -7.655      -2.103\n",
      "=====================================================================================\n"
     ]
    }
   ],
   "source": [
    "#Logistic Regression\n",
    "logit = sm.Logit(data['admit'], data[train_cols])\n",
    "\n",
    "# fit the model\n",
    "result = logit.fit()\n",
    "print (result.summary())"
   ]
  },
  {
   "cell_type": "code",
   "execution_count": 51,
   "metadata": {},
   "outputs": [
    {
     "data": {
      "text/html": [
       "<div>\n",
       "<style scoped>\n",
       "    .dataframe tbody tr th:only-of-type {\n",
       "        vertical-align: middle;\n",
       "    }\n",
       "\n",
       "    .dataframe tbody tr th {\n",
       "        vertical-align: top;\n",
       "    }\n",
       "\n",
       "    .dataframe thead th {\n",
       "        text-align: right;\n",
       "    }\n",
       "</style>\n",
       "<table border=\"1\" class=\"dataframe\">\n",
       "  <thead>\n",
       "    <tr style=\"text-align: right;\">\n",
       "      <th></th>\n",
       "      <th>admit</th>\n",
       "      <th>gre</th>\n",
       "      <th>gpa</th>\n",
       "      <th>prestige</th>\n",
       "    </tr>\n",
       "  </thead>\n",
       "  <tbody>\n",
       "    <tr>\n",
       "      <td>0</td>\n",
       "      <td>0</td>\n",
       "      <td>380</td>\n",
       "      <td>3.61</td>\n",
       "      <td>good</td>\n",
       "    </tr>\n",
       "    <tr>\n",
       "      <td>1</td>\n",
       "      <td>1</td>\n",
       "      <td>660</td>\n",
       "      <td>3.67</td>\n",
       "      <td>good</td>\n",
       "    </tr>\n",
       "    <tr>\n",
       "      <td>2</td>\n",
       "      <td>1</td>\n",
       "      <td>800</td>\n",
       "      <td>4.00</td>\n",
       "      <td>best</td>\n",
       "    </tr>\n",
       "    <tr>\n",
       "      <td>3</td>\n",
       "      <td>1</td>\n",
       "      <td>640</td>\n",
       "      <td>3.19</td>\n",
       "      <td>ok</td>\n",
       "    </tr>\n",
       "    <tr>\n",
       "      <td>4</td>\n",
       "      <td>0</td>\n",
       "      <td>520</td>\n",
       "      <td>2.93</td>\n",
       "      <td>ok</td>\n",
       "    </tr>\n",
       "    <tr>\n",
       "      <td>...</td>\n",
       "      <td>...</td>\n",
       "      <td>...</td>\n",
       "      <td>...</td>\n",
       "      <td>...</td>\n",
       "    </tr>\n",
       "    <tr>\n",
       "      <td>295</td>\n",
       "      <td>0</td>\n",
       "      <td>520</td>\n",
       "      <td>3.25</td>\n",
       "      <td>good</td>\n",
       "    </tr>\n",
       "    <tr>\n",
       "      <td>296</td>\n",
       "      <td>0</td>\n",
       "      <td>560</td>\n",
       "      <td>3.16</td>\n",
       "      <td>best</td>\n",
       "    </tr>\n",
       "    <tr>\n",
       "      <td>297</td>\n",
       "      <td>0</td>\n",
       "      <td>460</td>\n",
       "      <td>3.07</td>\n",
       "      <td>veryGood</td>\n",
       "    </tr>\n",
       "    <tr>\n",
       "      <td>298</td>\n",
       "      <td>0</td>\n",
       "      <td>540</td>\n",
       "      <td>3.50</td>\n",
       "      <td>veryGood</td>\n",
       "    </tr>\n",
       "    <tr>\n",
       "      <td>299</td>\n",
       "      <td>0</td>\n",
       "      <td>720</td>\n",
       "      <td>3.40</td>\n",
       "      <td>good</td>\n",
       "    </tr>\n",
       "  </tbody>\n",
       "</table>\n",
       "<p>300 rows × 4 columns</p>\n",
       "</div>"
      ],
      "text/plain": [
       "     admit  gre   gpa  prestige\n",
       "0        0  380  3.61      good\n",
       "1        1  660  3.67      good\n",
       "2        1  800  4.00      best\n",
       "3        1  640  3.19        ok\n",
       "4        0  520  2.93        ok\n",
       "..     ...  ...   ...       ...\n",
       "295      0  520  3.25      good\n",
       "296      0  560  3.16      best\n",
       "297      0  460  3.07  veryGood\n",
       "298      0  540  3.50  veryGood\n",
       "299      0  720  3.40      good\n",
       "\n",
       "[300 rows x 4 columns]"
      ]
     },
     "execution_count": 51,
     "metadata": {},
     "output_type": "execute_result"
    }
   ],
   "source": [
    "dfTrain"
   ]
  },
  {
   "cell_type": "code",
   "execution_count": 52,
   "metadata": {},
   "outputs": [
    {
     "name": "stdout",
     "output_type": "stream",
     "text": [
      "admit\n",
      "0    208\n",
      "1     92\n",
      "dtype: int64\n"
     ]
    }
   ],
   "source": [
    "mydata=dfTrain.groupby('admit').size()\n",
    "print(mydata)"
   ]
  },
  {
   "cell_type": "code",
   "execution_count": 53,
   "metadata": {},
   "outputs": [
    {
     "name": "stdout",
     "output_type": "stream",
     "text": [
      "prestige\n",
      "best         45\n",
      "good         92\n",
      "ok           56\n",
      "veryGood    107\n",
      "dtype: int64\n"
     ]
    }
   ],
   "source": [
    "mydata=dfTrain.groupby('prestige').size()\n",
    "print(mydata)"
   ]
  },
  {
   "cell_type": "code",
   "execution_count": 54,
   "metadata": {},
   "outputs": [
    {
     "data": {
      "text/plain": [
       "(300, 4)"
      ]
     },
     "execution_count": 54,
     "metadata": {},
     "output_type": "execute_result"
    }
   ],
   "source": [
    "dfTrain.shape"
   ]
  },
  {
   "cell_type": "markdown",
   "metadata": {},
   "source": [
    "dfTrain.corr(method='pearson')"
   ]
  },
  {
   "cell_type": "code",
   "execution_count": 56,
   "metadata": {},
   "outputs": [
    {
     "data": {
      "text/html": [
       "<div>\n",
       "<style scoped>\n",
       "    .dataframe tbody tr th:only-of-type {\n",
       "        vertical-align: middle;\n",
       "    }\n",
       "\n",
       "    .dataframe tbody tr th {\n",
       "        vertical-align: top;\n",
       "    }\n",
       "\n",
       "    .dataframe thead th {\n",
       "        text-align: right;\n",
       "    }\n",
       "</style>\n",
       "<table border=\"1\" class=\"dataframe\">\n",
       "  <thead>\n",
       "    <tr style=\"text-align: right;\">\n",
       "      <th></th>\n",
       "      <th>admit</th>\n",
       "      <th>gre</th>\n",
       "      <th>gpa</th>\n",
       "    </tr>\n",
       "  </thead>\n",
       "  <tbody>\n",
       "    <tr>\n",
       "      <td>admit</td>\n",
       "      <td>1.000000</td>\n",
       "      <td>0.222689</td>\n",
       "      <td>0.199463</td>\n",
       "    </tr>\n",
       "    <tr>\n",
       "      <td>gre</td>\n",
       "      <td>0.222689</td>\n",
       "      <td>1.000000</td>\n",
       "      <td>0.377243</td>\n",
       "    </tr>\n",
       "    <tr>\n",
       "      <td>gpa</td>\n",
       "      <td>0.199463</td>\n",
       "      <td>0.377243</td>\n",
       "      <td>1.000000</td>\n",
       "    </tr>\n",
       "  </tbody>\n",
       "</table>\n",
       "</div>"
      ],
      "text/plain": [
       "          admit       gre       gpa\n",
       "admit  1.000000  0.222689  0.199463\n",
       "gre    0.222689  1.000000  0.377243\n",
       "gpa    0.199463  0.377243  1.000000"
      ]
     },
     "execution_count": 56,
     "metadata": {},
     "output_type": "execute_result"
    }
   ],
   "source": [
    "dfTrain.corr(method='pearson')"
   ]
  },
  {
   "cell_type": "code",
   "execution_count": 57,
   "metadata": {},
   "outputs": [
    {
     "data": {
      "text/plain": [
       "admit         int64\n",
       "gre           int64\n",
       "gpa         float64\n",
       "prestige     object\n",
       "dtype: object"
      ]
     },
     "execution_count": 57,
     "metadata": {},
     "output_type": "execute_result"
    }
   ],
   "source": [
    "dfTrain.dtypes"
   ]
  },
  {
   "cell_type": "code",
   "execution_count": 58,
   "metadata": {},
   "outputs": [
    {
     "data": {
      "text/plain": [
       "<bound method DataFrame.skew of      admit  gre   gpa  prestige\n",
       "0        0  380  3.61      good\n",
       "1        1  660  3.67      good\n",
       "2        1  800  4.00      best\n",
       "3        1  640  3.19        ok\n",
       "4        0  520  2.93        ok\n",
       "..     ...  ...   ...       ...\n",
       "295      0  520  3.25      good\n",
       "296      0  560  3.16      best\n",
       "297      0  460  3.07  veryGood\n",
       "298      0  540  3.50  veryGood\n",
       "299      0  720  3.40      good\n",
       "\n",
       "[300 rows x 4 columns]>"
      ]
     },
     "execution_count": 58,
     "metadata": {},
     "output_type": "execute_result"
    }
   ],
   "source": [
    "dfTrain.skew"
   ]
  },
  {
   "cell_type": "code",
   "execution_count": 59,
   "metadata": {},
   "outputs": [
    {
     "data": {
      "text/plain": [
       "admit    0.842776\n",
       "gre     -0.118480\n",
       "gpa     -0.189184\n",
       "dtype: float64"
      ]
     },
     "execution_count": 59,
     "metadata": {},
     "output_type": "execute_result"
    }
   ],
   "source": [
    "dfTrain.skew()"
   ]
  },
  {
   "cell_type": "code",
   "execution_count": 88,
   "metadata": {},
   "outputs": [
    {
     "data": {
      "text/plain": [
       "array([[<matplotlib.axes._subplots.AxesSubplot object at 0x000002854B5B1CC8>,\n",
       "        <matplotlib.axes._subplots.AxesSubplot object at 0x000002854B4EC848>],\n",
       "       [<matplotlib.axes._subplots.AxesSubplot object at 0x000002854B519048>,\n",
       "        <matplotlib.axes._subplots.AxesSubplot object at 0x000002854B3D0688>]],\n",
       "      dtype=object)"
      ]
     },
     "execution_count": 88,
     "metadata": {},
     "output_type": "execute_result"
    },
    {
     "data": {
      "image/png": "[encoded data removed]",
      "text/plain": [
       "<Figure size 432x288 with 4 Axes>"
      ]
     },
     "metadata": {
      "needs_background": "light"
     },
     "output_type": "display_data"
    }
   ],
   "source": [
    "dfTrain.hist()"
   ]
  },
  {
   "cell_type": "code",
   "execution_count": 61,
   "metadata": {},
   "outputs": [
    {
     "data": {
      "text/plain": [
       "array([[<matplotlib.axes._subplots.AxesSubplot object at 0x00000285498F3AC8>,\n",
       "        <matplotlib.axes._subplots.AxesSubplot object at 0x00000285499297C8>],\n",
       "       [<matplotlib.axes._subplots.AxesSubplot object at 0x000002854995AD08>,\n",
       "        <matplotlib.axes._subplots.AxesSubplot object at 0x0000028549994748>]],\n",
       "      dtype=object)"
      ]
     },
     "execution_count": 61,
     "metadata": {},
     "output_type": "execute_result"
    },
    {
     "data": {
      "image/png": "[encoded data removed]",
      "text/plain": [
       "<Figure size 432x288 with 4 Axes>"
      ]
     },
     "metadata": {
      "needs_background": "light"
     },
     "output_type": "display_data"
    }
   ],
   "source": [
    "x = dfTrain.hist()\n",
    "x"
   ]
  },
  {
   "cell_type": "code",
   "execution_count": null,
   "metadata": {},
   "outputs": [],
   "source": []
  }
 ],
 "metadata": {
  "kernelspec": {
   "display_name": "Python 3",
   "language": "python",
   "name": "python3"
  },
  "language_info": {
   "codemirror_mode": {
    "name": "ipython",
    "version": 3
   },
   "file_extension": ".py",
   "mimetype": "text/x-python",
   "name": "python",
   "nbconvert_exporter": "python",
   "pygments_lexer": "ipython3",
   "version": "3.7.4"
  }
 },
 "nbformat": 4,
 "nbformat_minor": 2
}
