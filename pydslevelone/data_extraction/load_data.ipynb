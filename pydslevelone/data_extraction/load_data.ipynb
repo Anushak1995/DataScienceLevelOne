{
 "cells": [
  {
   "cell_type": "code",
   "execution_count": 21,
   "metadata": {},
   "outputs": [],
   "source": [
    "# Load CSV Using Python Standard Library\n",
    "import csv\n",
    "import numpy"
   ]
  },
  {
   "cell_type": "code",
   "execution_count": 22,
   "metadata": {},
   "outputs": [],
   "source": [
    "# Load CSV Using Python Standard Library\n",
    "filename = 'pima-indians-diabetes.data.csv'\n",
    "raw_data = open(filename, 'rt')\n",
    "reader = csv.reader(raw_data, delimiter=',')"
   ]
  },
  {
   "cell_type": "code",
   "execution_count": 23,
   "metadata": {},
   "outputs": [
    {
     "name": "stdout",
     "output_type": "stream",
     "text": [
      "(768, 9)\n"
     ]
    }
   ],
   "source": [
    "# Load CSV Using Python Standard Library\n",
    "x = list(reader)\n",
    "data = numpy.array(x).astype('float')\n",
    "print(data.shape)"
   ]
  },
  {
   "cell_type": "code",
   "execution_count": 24,
   "metadata": {},
   "outputs": [
    {
     "name": "stdout",
     "output_type": "stream",
     "text": [
      "(768, 9)\n"
     ]
    }
   ],
   "source": [
    "# load python using numpy\n",
    "from numpy import loadtxt\n",
    "raw_data = open(filename, 'rt')\n",
    "data = loadtxt(raw_data, delimiter=\",\")\n",
    "print(data.shape)"
   ]
  },
  {
   "cell_type": "code",
   "execution_count": 2,
   "metadata": {},
   "outputs": [
    {
     "name": "stdout",
     "output_type": "stream",
     "text": [
      "(768, 9)\n",
      "     preg  plas  pres  skin  test  mass   pedi  age  class\n",
      "0       6   148    72    35     0  33.6  0.627   50      1\n",
      "1       1    85    66    29     0  26.6  0.351   31      0\n",
      "2       8   183    64     0     0  23.3  0.672   32      1\n",
      "3       1    89    66    23    94  28.1  0.167   21      0\n",
      "4       0   137    40    35   168  43.1  2.288   33      1\n",
      "..    ...   ...   ...   ...   ...   ...    ...  ...    ...\n",
      "763    10   101    76    48   180  32.9  0.171   63      0\n",
      "764     2   122    70    27     0  36.8  0.340   27      0\n",
      "765     5   121    72    23   112  26.2  0.245   30      0\n",
      "766     1   126    60     0     0  30.1  0.349   47      1\n",
      "767     1    93    70    31     0  30.4  0.315   23      0\n",
      "\n",
      "[768 rows x 9 columns]\n"
     ]
    }
   ],
   "source": [
    "# load python using pandas\n",
    "from pandas import read_csv\n",
    "filename = 'pima-indians-diabetes.data.csv'\n",
    "defined_names = ['preg', 'plas', 'pres', 'skin', 'test', 'mass', 'pedi', 'age', 'class']\n",
    "data = read_csv(filename, names=defined_names)\n",
    "print(data.shape)\n",
    "print(data)"
   ]
  },
  {
   "cell_type": "code",
   "execution_count": 26,
   "metadata": {},
   "outputs": [
    {
     "name": "stdout",
     "output_type": "stream",
     "text": [
      "['x', 'y']\n",
      "['5', '90']\n",
      "['25', '30']\n",
      "['45', '50']\n",
      "['65', '55']\n",
      "['85', '25']\n"
     ]
    }
   ],
   "source": [
    "# load python using numpy\n",
    "with open(\"sample.tsv\") as tsvfile:\n",
    "    tsvreader = csv.reader(tsvfile, delimiter='\\t')\n",
    "    for line in tsvreader:\n",
    "        print(line[1:])"
   ]
  },
  {
   "cell_type": "code",
   "execution_count": 27,
   "metadata": {},
   "outputs": [
    {
     "name": "stdout",
     "output_type": "stream",
     "text": [
      "['Sheet1', 'Sheet2', 'Sheet3']\n"
     ]
    }
   ],
   "source": [
    "# Assign spreadsheet filename to `file`\n",
    "import pandas as pd\n",
    "file = 'book1.xlsx'\n",
    "# Load spreadsheet\n",
    "xl = pd.ExcelFile(file)\n",
    "# Print the sheet names\n",
    "print(xl.sheet_names)\n",
    "# Load a sheet into a DataFrame by name: df1\n",
    "df1 = xl.parse('Sheet1')\n",
    "#print(df1)"
   ]
  },
  {
   "cell_type": "code",
   "execution_count": 28,
   "metadata": {},
   "outputs": [
    {
     "name": "stdout",
     "output_type": "stream",
     "text": [
      "    OrderDate   Region       Rep     Item  Units  Unit Cost    Total\n",
      "0  2018-01-06     East     Jones   Pencil     95       1.99   189.05\n",
      "1  2018-01-23  Central    Kivell   Binder     50      19.99   999.50\n",
      "2  2018-02-09  Central   Jardine   Pencil     36       4.99   179.64\n",
      "3  2018-02-26  Central      Gill      Pen     27      19.99   539.73\n",
      "4  2018-03-15     West   Sorvino   Pencil     56       2.99   167.44\n",
      "5  2018-04-01     East     Jones   Binder     60       4.99   299.40\n",
      "6  2018-04-18  Central   Andrews   Pencil     75       1.99   149.25\n",
      "7  2018-05-05  Central   Jardine   Pencil     90       4.99   449.10\n",
      "8  2018-05-22     West  Thompson   Pencil     32       1.99    63.68\n",
      "9  2018-06-08     East     Jones   Binder     60       8.99   539.40\n",
      "10 2018-06-25  Central    Morgan   Pencil     90       4.99   449.10\n",
      "11 2018-07-12     East    Howard   Binder     29       1.99    57.71\n",
      "12 2018-07-29     East    Parent   Binder     81      19.99  1619.19\n",
      "13 2018-08-15     East     Jones   Pencil     35       4.99   174.65\n",
      "14 2018-09-01  Central     Smith     Desk      2     125.00   250.00\n",
      "15 2018-09-18     East     Jones  Pen Set     16      15.99   255.84\n",
      "16 2018-10-05  Central    Morgan   Binder     28       8.99   251.72\n",
      "17 2018-10-22     East     Jones      Pen     64       8.99   575.36\n",
      "18 2018-11-08     East    Parent      Pen     15      19.99   299.85\n",
      "19 2018-11-25  Central    Kivell  Pen Set     96       4.99   479.04\n",
      "20 2018-12-12  Central     Smith   Pencil     67       1.29    86.43\n",
      "21 2018-12-29     East    Parent  Pen Set     74      15.99  1183.26\n",
      "22 2019-01-15  Central      Gill   Binder     46       8.99   413.54\n",
      "23 2019-02-01  Central     Smith   Binder     87      15.00  1305.00\n",
      "24 2019-02-18     East     Jones   Binder      4       4.99    19.96\n",
      "25 2019-03-07     West   Sorvino   Binder      7      19.99   139.93\n",
      "26 2019-03-24  Central   Jardine  Pen Set     50       4.99   249.50\n",
      "27 2019-04-10  Central   Andrews   Pencil     66       1.99   131.34\n",
      "28 2019-04-27     East    Howard      Pen     96       4.99   479.04\n",
      "29 2019-05-14  Central      Gill   Pencil     53       1.29    68.37\n",
      "30 2019-05-31  Central      Gill   Binder     80       8.99   719.20\n",
      "31 2019-06-17  Central    Kivell     Desk      5     125.00   625.00\n",
      "32 2019-07-04     East     Jones  Pen Set     62       4.99   309.38\n",
      "33 2019-07-21  Central    Morgan  Pen Set     55      12.49   686.95\n",
      "34 2019-08-07  Central    Kivell  Pen Set     42      23.95  1005.90\n",
      "35 2019-08-24     West   Sorvino     Desk      3     275.00   825.00\n",
      "36 2019-09-10  Central      Gill   Pencil      7       1.29     9.03\n",
      "37 2019-09-27     West   Sorvino      Pen     76       1.99   151.24\n",
      "38 2019-10-14     West  Thompson   Binder     57      19.99  1139.43\n",
      "39 2019-10-31  Central   Andrews   Pencil     14       1.29    18.06\n",
      "40 2019-11-17  Central   Jardine   Binder     11       4.99    54.89\n",
      "41 2019-12-04  Central   Jardine   Binder     94      19.99  1879.06\n",
      "42 2019-12-21  Central   Andrews   Binder     28       4.99   139.72\n"
     ]
    }
   ],
   "source": [
    "print(df1)"
   ]
  },
  {
   "cell_type": "code",
   "execution_count": 29,
   "metadata": {},
   "outputs": [
    {
     "name": "stdout",
     "output_type": "stream",
     "text": [
      "      Home Sl.No.   id Home loan Payment Date  Home loan Beginning Balance  \\\n",
      "0               1    1             2017-03-02                 8.365000e+06   \n",
      "1               2    2             2017-03-30                 8.352072e+06   \n",
      "2               3    3             2017-04-30                 8.339051e+06   \n",
      "3               4    4             2017-05-30                 8.325934e+06   \n",
      "4               5    5             2017-06-30                 8.312721e+06   \n",
      "..            ...  ...                    ...                          ...   \n",
      "235           236  236             2036-09-30                 3.616623e+05   \n",
      "236           237  237             2036-10-30                 2.903770e+05   \n",
      "237           238  238             2036-11-30                 2.185720e+05   \n",
      "238           239  239             2036-12-30                 1.462433e+05   \n",
      "239           240  240             2037-01-30                 7.338729e+04   \n",
      "\n",
      "     Home loan Payment  Home loanPrincipal  Home loan Interest  \\\n",
      "0           73922.4008        12927.609134        60994.791667   \n",
      "1           73922.4008        13021.872950        60900.527850   \n",
      "2           73922.4008        13116.824107        60805.576693   \n",
      "3           73922.4008        13212.467616        60709.933184   \n",
      "4           73922.4008        13308.808526        60613.592274   \n",
      "..                 ...                 ...                 ...   \n",
      "235         73922.4008        71285.279694         2637.121106   \n",
      "236         73922.4008        71805.068192         2117.332608   \n",
      "237         73922.4008        72328.646815         1593.753986   \n",
      "238         73922.4008        72856.043198         1066.357603   \n",
      "239         73922.4008        73387.285179          535.115621   \n",
      "\n",
      "     Home loan Ending Balance  \n",
      "0                8.352072e+06  \n",
      "1                8.339051e+06  \n",
      "2                8.325934e+06  \n",
      "3                8.312721e+06  \n",
      "4                8.299412e+06  \n",
      "..                        ...  \n",
      "235              2.903770e+05  \n",
      "236              2.185720e+05  \n",
      "237              1.462433e+05  \n",
      "238              7.338729e+04  \n",
      "239             -9.685755e-08  \n",
      "\n",
      "[240 rows x 8 columns]\n"
     ]
    }
   ],
   "source": [
    "# how to read excel files using python pandas\n",
    "df = pd.read_excel ('homeloan.xlsx')\n",
    "print (df)"
   ]
  },
  {
   "cell_type": "code",
   "execution_count": 30,
   "metadata": {},
   "outputs": [
    {
     "name": "stdout",
     "output_type": "stream",
     "text": [
      "      Year      City       Sport      Discipline  NOC            Event  \\\n",
      "0     1924  Chamonix     Skating  Figure skating  AUT       individual   \n",
      "1     1924  Chamonix     Skating  Figure skating  AUT       individual   \n",
      "2     1924  Chamonix     Skating  Figure skating  AUT            pairs   \n",
      "3     1924  Chamonix   Bobsleigh       Bobsleigh  BEL         four-man   \n",
      "4     1924  Chamonix  Ice Hockey      Ice Hockey  CAN       ice hockey   \n",
      "...    ...       ...         ...             ...  ...              ...   \n",
      "2306  2006     Turin      Skiing       Snowboard  USA        Half-pipe   \n",
      "2307  2006     Turin      Skiing       Snowboard  USA        Half-pipe   \n",
      "2308  2006     Turin      Skiing       Snowboard  USA        Half-pipe   \n",
      "2309  2006     Turin      Skiing       Snowboard  USA  Snowboard Cross   \n",
      "2310  2006     Turin      Skiing       Snowboard  USA  Snowboard Cross   \n",
      "\n",
      "     Event gender   Medal  \n",
      "0               M  Silver  \n",
      "1               W    Gold  \n",
      "2               X    Gold  \n",
      "3               M  Bronze  \n",
      "4               M    Gold  \n",
      "...           ...     ...  \n",
      "2306            M  Silver  \n",
      "2307            W    Gold  \n",
      "2308            W  Silver  \n",
      "2309            M    Gold  \n",
      "2310            W  Silver  \n",
      "\n",
      "[2311 rows x 8 columns]\n"
     ]
    }
   ],
   "source": [
    "# reading data from the web\n",
    "data = pd.read_csv('http://winterolympicsmedals.com/medals.csv')\n",
    "print(data)"
   ]
  },
  {
   "cell_type": "code",
   "execution_count": 31,
   "metadata": {},
   "outputs": [
    {
     "name": "stdout",
     "output_type": "stream",
     "text": [
      "{'glossary': {'title': 'example glossary', 'GlossDiv': {'title': 'S', 'GlossList': {'GlossEntry': {'ID': 'SGML', 'SortAs': 'SGML', 'GlossTerm': 'Standard Generalized Markup Language', 'Acronym': 'SGML', 'Abbrev': 'ISO 8879:1986', 'GlossDef': {'para': 'A meta-markup language, used to create markup languages such as DocBook.', 'GlossSeeAlso': ['GML', 'XML']}, 'GlossSee': 'markup'}}}}}\n"
     ]
    }
   ],
   "source": [
    "# reading from a json file\n",
    "import json\n",
    "with open('new.json') as f:\n",
    "  data = json.load(f)\n",
    "\n",
    "print(data)"
   ]
  },
  {
   "cell_type": "code",
   "execution_count": 32,
   "metadata": {},
   "outputs": [],
   "source": [
    "# writing to a json file\n",
    "person_dict = {\"name\": \"Bob\",\n",
    "\"languages\": [\"English\", \"Fench\"],\n",
    "\"married\": True,\n",
    "\"age\": 32\n",
    "}\n",
    "\n",
    "with open('person.txt', 'w') as json_file:\n",
    "  json.dump(person_dict, json_file)"
   ]
  },
  {
   "cell_type": "code",
   "execution_count": 33,
   "metadata": {},
   "outputs": [],
   "source": [
    "with open('person.txt') as f:\n",
    "  data = json.load(f)"
   ]
  },
  {
   "cell_type": "code",
   "execution_count": 34,
   "metadata": {},
   "outputs": [
    {
     "name": "stdout",
     "output_type": "stream",
     "text": [
      "{'name': 'Bob', 'languages': ['English', 'Fench'], 'married': True, 'age': 32}\n"
     ]
    }
   ],
   "source": [
    "print(data)"
   ]
  },
  {
   "cell_type": "code",
   "execution_count": 35,
   "metadata": {},
   "outputs": [
    {
     "name": "stdout",
     "output_type": "stream",
     "text": [
      "(284808, 31)\n",
      "          Time                  V1                   V2                V3  \\\n",
      "0         Time                  V1                   V2                V3   \n",
      "1            0    -1.3598071336738  -0.0727811733098497  2.53634673796914   \n",
      "2            0    1.19185711131486     0.26615071205963  0.16648011335321   \n",
      "3            1   -1.35835406159823    -1.34016307473609  1.77320934263119   \n",
      "4            1  -0.966271711572087   -0.185226008082898  1.79299333957872   \n",
      "...        ...                 ...                  ...               ...   \n",
      "284803  172786            -11.8811              10.0718          -9.83478   \n",
      "284804  172787           -0.732789           -0.0550805           2.03503   \n",
      "284805  172788             1.91957            -0.301254          -3.24964   \n",
      "284806  172788            -0.24044             0.530483           0.70251   \n",
      "284807  172792           -0.533413            -0.189733          0.703337   \n",
      "\n",
      "                        V4                   V5                   V6  \\\n",
      "0                       V4                   V5                   V6   \n",
      "1         1.37815522427443   -0.338320769942518    0.462387777762292   \n",
      "2        0.448154078460911   0.0600176492822243  -0.0823608088155687   \n",
      "3        0.379779593034328   -0.503198133318193     1.80049938079263   \n",
      "4       -0.863291275036453  -0.0103088796030823     1.24720316752486   \n",
      "...                    ...                  ...                  ...   \n",
      "284803            -2.06666             -5.36447             -2.60684   \n",
      "284804           -0.738589             0.868229              1.05842   \n",
      "284805           -0.557828              2.63052              3.03126   \n",
      "284806            0.689799            -0.377961             0.623708   \n",
      "284807           -0.506271           -0.0125457            -0.649617   \n",
      "\n",
      "                         V7                  V8                  V9  ...  \\\n",
      "0                        V7                  V8                  V9  ...   \n",
      "1         0.239598554061257  0.0986979012610507   0.363786969611213  ...   \n",
      "2       -0.0788029833323113  0.0851016549148104  -0.255425128109186  ...   \n",
      "3         0.791460956450422   0.247675786588991   -1.51465432260583  ...   \n",
      "4          0.23760893977178   0.377435874652262   -1.38702406270197  ...   \n",
      "...                     ...                 ...                 ...  ...   \n",
      "284803             -4.91822             7.30533             1.91443  ...   \n",
      "284804            0.0243297            0.294869              0.5848  ...   \n",
      "284805            -0.296827            0.708417            0.432454  ...   \n",
      "284806             -0.68618            0.679145            0.392087  ...   \n",
      "284807              1.57701            -0.41465             0.48618  ...   \n",
      "\n",
      "                       V21                  V22                 V23  \\\n",
      "0                      V21                  V22                 V23   \n",
      "1       -0.018306777944153    0.277837575558899  -0.110473910188767   \n",
      "2       -0.225775248033138   -0.638671952771851   0.101288021253234   \n",
      "3        0.247998153469754    0.771679401917229   0.909412262347719   \n",
      "4       -0.108300452035545  0.00527359678253453  -0.190320518742841   \n",
      "...                    ...                  ...                 ...   \n",
      "284803            0.213454             0.111864             1.01448   \n",
      "284804            0.214205             0.924384            0.012463   \n",
      "284805            0.232045             0.578229          -0.0375009   \n",
      "284806            0.265245             0.800049           -0.163298   \n",
      "284807            0.261057             0.643078            0.376777   \n",
      "\n",
      "                       V24                 V25                 V26  \\\n",
      "0                      V24                 V25                 V26   \n",
      "1       0.0669280749146731   0.128539358273528  -0.189114843888824   \n",
      "2       -0.339846475529127   0.167170404418143   0.125894532368176   \n",
      "3       -0.689280956490685  -0.327641833735251  -0.139096571514147   \n",
      "4        -1.17557533186321   0.647376034602038  -0.221928844458407   \n",
      "...                    ...                 ...                 ...   \n",
      "284803           -0.509348             1.43681            0.250034   \n",
      "284804            -1.01623           -0.606624           -0.395255   \n",
      "284805            0.640134            0.265745          -0.0873706   \n",
      "284806            0.123205           -0.569159            0.546668   \n",
      "284807          0.00879738           -0.473649           -0.818267   \n",
      "\n",
      "                         V27                  V28  Amount  Class  \n",
      "0                        V27                  V28  Amount  Class  \n",
      "1          0.133558376740387  -0.0210530534538215  149.62      0  \n",
      "2       -0.00898309914322813   0.0147241691924927    2.69      0  \n",
      "3        -0.0553527940384261  -0.0597518405929204  378.66      0  \n",
      "4         0.0627228487293033   0.0614576285006353   123.5      0  \n",
      "...                      ...                  ...     ...    ...  \n",
      "284803              0.943651             0.823731    0.77      0  \n",
      "284804             0.0684725           -0.0535274   24.79      0  \n",
      "284805            0.00445477           -0.0265608   67.88      0  \n",
      "284806              0.108821             0.104533      10      0  \n",
      "284807           -0.00241531            0.0136489     217      0  \n",
      "\n",
      "[284808 rows x 31 columns]\n"
     ]
    }
   ],
   "source": [
    "#set low_memory=False\n",
    "filename = 'creditcard.csv'\n",
    "names = ['Time','V1','V2','V3','V4','V5','V6','V7','V8','V9','V10','V11','V12','V13','V14','V15','V16','V17','V18','V19','V20','V21','V22','V23','V24','V25','V26','V27','V28','Amount','Class']\n",
    "data = read_csv(filename, names=names)\n",
    "print(data.shape)\n",
    "print(data)"
   ]
  },
  {
   "cell_type": "code",
   "execution_count": 3,
   "metadata": {},
   "outputs": [
    {
     "name": "stdout",
     "output_type": "stream",
     "text": [
      "(768, 9)\n",
      "     preg  plas  pres  skin  test  mass   pedi  age  class\n",
      "0       6   148    72    35     0  33.6  0.627   50      1\n",
      "1       1    85    66    29     0  26.6  0.351   31      0\n",
      "2       8   183    64     0     0  23.3  0.672   32      1\n",
      "3       1    89    66    23    94  28.1  0.167   21      0\n",
      "4       0   137    40    35   168  43.1  2.288   33      1\n",
      "..    ...   ...   ...   ...   ...   ...    ...  ...    ...\n",
      "763    10   101    76    48   180  32.9  0.171   63      0\n",
      "764     2   122    70    27     0  36.8  0.340   27      0\n",
      "765     5   121    72    23   112  26.2  0.245   30      0\n",
      "766     1   126    60     0     0  30.1  0.349   47      1\n",
      "767     1    93    70    31     0  30.4  0.315   23      0\n",
      "\n",
      "[768 rows x 9 columns]\n"
     ]
    }
   ],
   "source": [
    "# load python using pandas\n",
    "import pandas as pd\n",
    "filename = 'pima-indians-diabetes.data.csv'\n",
    "defined_names = ['preg', 'plas', 'pres', 'skin', 'test', 'mass', 'pedi', 'age', 'class']\n",
    "data = pd.read_csv(filename, names=defined_names)\n",
    "print(data.shape)\n",
    "print(data)"
   ]
  },
  {
   "cell_type": "code",
   "execution_count": null,
   "metadata": {},
   "outputs": [],
   "source": []
  }
 ],
 "metadata": {
  "kernelspec": {
   "display_name": "Python 3",
   "language": "python",
   "name": "python3"
  },
  "language_info": {
   "codemirror_mode": {
    "name": "ipython",
    "version": 3
   },
   "file_extension": ".py",
   "mimetype": "text/x-python",
   "name": "python",
   "nbconvert_exporter": "python",
   "pygments_lexer": "ipython3",
   "version": "3.7.4"
  }
 },
 "nbformat": 4,
 "nbformat_minor": 2
}
