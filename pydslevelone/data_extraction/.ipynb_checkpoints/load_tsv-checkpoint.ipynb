{
 "cells": [
  {
   "cell_type": "code",
   "execution_count": 2,
   "metadata": {
    "ExecuteTime": {
     "end_time": "2020-07-30T02:54:17.110407Z",
     "start_time": "2020-07-30T02:54:16.063959Z"
    }
   },
   "outputs": [],
   "source": [
    "# Load CSV Using Python Standard Library\n",
    "import csv\n",
    "import numpy\n",
    "import pandas as pd\n",
    "from pandas import read_csv\n",
    "from numpy import loadtxt"
   ]
  },
  {
   "cell_type": "code",
   "execution_count": 3,
   "metadata": {
    "ExecuteTime": {
     "end_time": "2020-07-30T02:54:20.059077Z",
     "start_time": "2020-07-30T02:54:20.046085Z"
    }
   },
   "outputs": [
    {
     "name": "stdout",
     "output_type": "stream",
     "text": [
      "['Price', 'Date', 'Time', 'Change', 'Volume']\n",
      "['39.48', '6/11/2007', '9:36am', '-0.18', '181800']\n",
      "['71.38', '6/11/2007', '9:36am', '-0.15', '195500']\n",
      "['62.58', '6/11/2007', '9:36am', '-0.46', '935000']\n",
      "['98.31', '6/11/2007', '9:36am', '+0.12', '104800']\n",
      "['53.08', '6/11/2007', '9:36am', '-0.25', '360900']\n",
      "['78.29', '6/11/2007', '9:36am', '-0.23', '225400']\n"
     ]
    }
   ],
   "source": [
    "# load python using numpy\n",
    "with open(\"stocks.tsv\") as tsvfile:\n",
    "    tsvreader = csv.reader(tsvfile, delimiter='\\t')\n",
    "    for line in tsvreader:\n",
    "        print(line[1:])"
   ]
  },
  {
   "cell_type": "code",
   "execution_count": null,
   "metadata": {},
   "outputs": [],
   "source": []
  }
 ],
 "metadata": {
  "kernelspec": {
   "display_name": "Python 3",
   "language": "python",
   "name": "python3"
  },
  "language_info": {
   "codemirror_mode": {
    "name": "ipython",
    "version": 3
   },
   "file_extension": ".py",
   "mimetype": "text/x-python",
   "name": "python",
   "nbconvert_exporter": "python",
   "pygments_lexer": "ipython3",
   "version": "3.7.4"
  }
 },
 "nbformat": 4,
 "nbformat_minor": 2
}
