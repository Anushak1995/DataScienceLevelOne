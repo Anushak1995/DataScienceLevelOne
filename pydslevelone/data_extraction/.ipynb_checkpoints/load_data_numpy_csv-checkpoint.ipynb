{
 "cells": [
  {
   "cell_type": "code",
   "execution_count": 1,
   "metadata": {
    "ExecuteTime": {
     "end_time": "2020-07-30T02:58:27.926963Z",
     "start_time": "2020-07-30T02:58:26.912531Z"
    }
   },
   "outputs": [],
   "source": [
    "# Load CSV Using Python Standard Library\n",
    "import csv\n",
    "import numpy\n",
    "import pandas as pd\n",
    "from pandas import read_csv\n",
    "from numpy import loadtxt"
   ]
  },
  {
   "cell_type": "code",
   "execution_count": 2,
   "metadata": {
    "ExecuteTime": {
     "end_time": "2020-07-30T02:58:27.936942Z",
     "start_time": "2020-07-30T02:58:27.929947Z"
    }
   },
   "outputs": [],
   "source": [
    "# Load CSV Using Python Standard Library\n",
    "filename = 'pima-indians-diabetes.data.csv'\n",
    "raw_data = open(filename, 'rt')\n",
    "reader = csv.reader(raw_data, delimiter=',')"
   ]
  },
  {
   "cell_type": "code",
   "execution_count": 3,
   "metadata": {
    "ExecuteTime": {
     "end_time": "2020-07-30T02:58:28.224651Z",
     "start_time": "2020-07-30T02:58:28.201645Z"
    }
   },
   "outputs": [
    {
     "name": "stdout",
     "output_type": "stream",
     "text": [
      "(768, 9)\n"
     ]
    }
   ],
   "source": [
    "# Load CSV Using Python Standard Library\n",
    "x = list(reader)\n",
    "data = numpy.array(x).astype('float')\n",
    "print(data.shape)"
   ]
  },
  {
   "cell_type": "code",
   "execution_count": 5,
   "metadata": {
    "ExecuteTime": {
     "end_time": "2020-07-30T02:59:50.574287Z",
     "start_time": "2020-07-30T02:59:50.539315Z"
    }
   },
   "outputs": [
    {
     "data": {
      "text/plain": [
       "array([[  6.   , 148.   ,  72.   , ...,   0.627,  50.   ,   1.   ],\n",
       "       [  1.   ,  85.   ,  66.   , ...,   0.351,  31.   ,   0.   ],\n",
       "       [  8.   , 183.   ,  64.   , ...,   0.672,  32.   ,   1.   ],\n",
       "       ...,\n",
       "       [  5.   , 121.   ,  72.   , ...,   0.245,  30.   ,   0.   ],\n",
       "       [  1.   , 126.   ,  60.   , ...,   0.349,  47.   ,   1.   ],\n",
       "       [  1.   ,  93.   ,  70.   , ...,   0.315,  23.   ,   0.   ]])"
      ]
     },
     "execution_count": 5,
     "metadata": {},
     "output_type": "execute_result"
    }
   ],
   "source": [
    "data"
   ]
  },
  {
   "cell_type": "code",
   "execution_count": 6,
   "metadata": {
    "ExecuteTime": {
     "end_time": "2020-07-30T03:00:08.532582Z",
     "start_time": "2020-07-30T03:00:08.515601Z"
    }
   },
   "outputs": [
    {
     "data": {
      "text/plain": [
       "(768, 9)"
      ]
     },
     "execution_count": 6,
     "metadata": {},
     "output_type": "execute_result"
    }
   ],
   "source": [
    "data.shape"
   ]
  },
  {
   "cell_type": "code",
   "execution_count": 4,
   "metadata": {
    "ExecuteTime": {
     "end_time": "2020-07-30T02:58:30.243451Z",
     "start_time": "2020-07-30T02:58:30.215485Z"
    }
   },
   "outputs": [
    {
     "name": "stdout",
     "output_type": "stream",
     "text": [
      "(768, 9)\n"
     ]
    }
   ],
   "source": [
    "# load python using numpy\n",
    "raw_data = open(filename, 'rt')\n",
    "data = loadtxt(raw_data, delimiter=\",\")\n",
    "print(data.shape)"
   ]
  },
  {
   "cell_type": "code",
   "execution_count": 57,
   "metadata": {
    "ExecuteTime": {
     "end_time": "2020-07-29T16:35:58.329252Z",
     "start_time": "2020-07-29T16:35:58.317279Z"
    }
   },
   "outputs": [
    {
     "name": "stdout",
     "output_type": "stream",
     "text": [
      "['Price', 'Date', 'Time', 'Change', 'Volume']\n",
      "['39.48', '6/11/2007', '9:36am', '-0.18', '181800']\n",
      "['71.38', '6/11/2007', '9:36am', '-0.15', '195500']\n",
      "['62.58', '6/11/2007', '9:36am', '-0.46', '935000']\n",
      "['98.31', '6/11/2007', '9:36am', '+0.12', '104800']\n",
      "['53.08', '6/11/2007', '9:36am', '-0.25', '360900']\n",
      "['78.29', '6/11/2007', '9:36am', '-0.23', '225400']\n"
     ]
    }
   ],
   "source": [
    "# load python using numpy\n",
    "with open(\"stocks.tsv\") as tsvfile:\n",
    "    tsvreader = csv.reader(tsvfile, delimiter='\\t')\n",
    "    for line in tsvreader:\n",
    "        print(line[1:])"
   ]
  },
  {
   "cell_type": "code",
   "execution_count": null,
   "metadata": {},
   "outputs": [],
   "source": []
  }
 ],
 "metadata": {
  "kernelspec": {
   "display_name": "Python 3",
   "language": "python",
   "name": "python3"
  },
  "language_info": {
   "codemirror_mode": {
    "name": "ipython",
    "version": 3
   },
   "file_extension": ".py",
   "mimetype": "text/x-python",
   "name": "python",
   "nbconvert_exporter": "python",
   "pygments_lexer": "ipython3",
   "version": "3.7.4"
  }
 },
 "nbformat": 4,
 "nbformat_minor": 2
}
