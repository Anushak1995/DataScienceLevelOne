{
 "cells": [
  {
   "cell_type": "code",
   "execution_count": 1,
   "metadata": {},
   "outputs": [],
   "source": [
    "# binarization\n",
    "from sklearn.preprocessing import Binarizer\n",
    "from sklearn.preprocessing import Normalizer\n",
    "from sklearn.preprocessing import MinMaxScaler\n",
    "from sklearn.preprocessing import StandardScaler\n",
    "from pandas import read_csv\n",
    "from numpy import set_printoptions"
   ]
  },
  {
   "cell_type": "code",
   "execution_count": 2,
   "metadata": {},
   "outputs": [],
   "source": [
    "filename = 'pima-indians-diabetes.data.csv'\n",
    "names = ['preg', 'plas', 'pres', 'skin', 'test', 'mass', 'pedi', 'age', 'class']\n",
    "dataframe = read_csv(filename, names=names)\n",
    "array = dataframe.values"
   ]
  },
  {
   "cell_type": "code",
   "execution_count": 3,
   "metadata": {},
   "outputs": [
    {
     "name": "stdout",
     "output_type": "stream",
     "text": [
      "     preg  plas  pres  skin  test  mass   pedi  age  class\n",
      "0       6   148    72    35     0  33.6  0.627   50      1\n",
      "1       1    85    66    29     0  26.6  0.351   31      0\n",
      "2       8   183    64     0     0  23.3  0.672   32      1\n",
      "3       1    89    66    23    94  28.1  0.167   21      0\n",
      "4       0   137    40    35   168  43.1  2.288   33      1\n",
      "..    ...   ...   ...   ...   ...   ...    ...  ...    ...\n",
      "763    10   101    76    48   180  32.9  0.171   63      0\n",
      "764     2   122    70    27     0  36.8  0.340   27      0\n",
      "765     5   121    72    23   112  26.2  0.245   30      0\n",
      "766     1   126    60     0     0  30.1  0.349   47      1\n",
      "767     1    93    70    31     0  30.4  0.315   23      0\n",
      "\n",
      "[768 rows x 9 columns]\n",
      "class\n",
      "0    500\n",
      "1    268\n",
      "dtype: int64\n"
     ]
    }
   ],
   "source": [
    "print(dataframe)\n",
    "print(dataframe.groupby('class').size())"
   ]
  },
  {
   "cell_type": "code",
   "execution_count": 4,
   "metadata": {},
   "outputs": [
    {
     "name": "stdout",
     "output_type": "stream",
     "text": [
      "class\n",
      "0     92\n",
      "1    102\n",
      "dtype: int64\n",
      "class\n",
      "0    189\n",
      "1    155\n",
      "dtype: int64\n",
      "class\n",
      "0    48\n",
      "1    18\n",
      "dtype: int64\n"
     ]
    }
   ],
   "source": [
    "print(dataframe[dataframe.age > 40].groupby('class').size())\n",
    "print(dataframe[dataframe.preg > 3].groupby('class').size())\n",
    "print(dataframe[(dataframe.preg > 3) & (dataframe.age < 30)].groupby('class').size())"
   ]
  },
  {
   "cell_type": "code",
   "execution_count": 5,
   "metadata": {},
   "outputs": [
    {
     "name": "stdout",
     "output_type": "stream",
     "text": [
      "[[0. 1. 1. 0. 0. 0. 0. 0.]\n",
      " [0. 1. 1. 0. 0. 0. 0. 0.]\n",
      " [0. 1. 1. 0. 0. 0. 0. 0.]\n",
      " [0. 1. 1. 0. 1. 0. 0. 0.]\n",
      " [0. 1. 0. 0. 1. 0. 0. 0.]]\n"
     ]
    }
   ],
   "source": [
    "# separate array into input and output components\n",
    "X = array[:,0:8]\n",
    "Y = array[:,8]\n",
    "binarizer = Binarizer(threshold=50.0).fit(X)\n",
    "binaryX = binarizer.transform(X)\n",
    "# summarize transformed data\n",
    "set_printoptions(precision=3)\n",
    "print(binaryX[0:5,:])"
   ]
  },
  {
   "cell_type": "code",
   "execution_count": 6,
   "metadata": {},
   "outputs": [
    {
     "name": "stdout",
     "output_type": "stream",
     "text": [
      "[[0.034 0.828 0.403 0.196 0.    0.188 0.004 0.28 ]\n",
      " [0.008 0.716 0.556 0.244 0.    0.224 0.003 0.261]\n",
      " [0.04  0.924 0.323 0.    0.    0.118 0.003 0.162]\n",
      " [0.007 0.588 0.436 0.152 0.622 0.186 0.001 0.139]\n",
      " [0.    0.596 0.174 0.152 0.731 0.188 0.01  0.144]]\n"
     ]
    }
   ],
   "source": [
    "X = array[:,0:8]\n",
    "Y = array[:,8]\n",
    "scaler = Normalizer().fit(X)\n",
    "normalizedX = scaler.transform(X)\n",
    "# summarize transformed data\n",
    "set_printoptions(precision=3)\n",
    "print(normalizedX[0:5,:])"
   ]
  },
  {
   "cell_type": "code",
   "execution_count": 7,
   "metadata": {},
   "outputs": [
    {
     "name": "stdout",
     "output_type": "stream",
     "text": [
      "[[13.529 17.437 15.902 13.535 10.    15.007 12.344 14.833]\n",
      " [10.588 14.271 15.41  12.929 10.    13.964 11.166 11.667]\n",
      " [14.706 19.196 15.246 10.    10.    13.472 12.536 11.833]\n",
      " [10.588 14.472 15.41  12.323 11.111 14.188 10.38  10.   ]\n",
      " [10.    16.884 13.279 13.535 11.986 16.423 19.436 12.   ]]\n"
     ]
    }
   ],
   "source": [
    "X = array[:,0:8]\n",
    "Y = array[:,8]\n",
    "scaler = MinMaxScaler(feature_range=(10, 20))\n",
    "rescaledX = scaler.fit_transform(X)\n",
    "# summarize transformed data\n",
    "set_printoptions(precision=3)\n",
    "print(rescaledX[0:5,:])"
   ]
  },
  {
   "cell_type": "code",
   "execution_count": 8,
   "metadata": {},
   "outputs": [
    {
     "name": "stdout",
     "output_type": "stream",
     "text": [
      "[[ 0.343 -0.372  0.305  0.343 -0.693  0.509  0.224  2.277]\n",
      " [-0.251  1.161  0.356  0.97   1.434 -0.05   1.145 -0.446]\n",
      " [-0.251 -1.03  -0.574 -0.598 -0.224 -0.913 -0.619 -0.956]\n",
      " [ 0.64  -0.904  1.184 -1.288 -0.693 -1.535 -0.857 -0.446]\n",
      " [ 1.828  0.035  0.46   0.656 -0.693 -0.558  0.121  1.001]\n",
      " [ 0.046 -0.56  -0.471  0.782  0.974 -1.014  1.492 -0.02 ]\n",
      " [ 2.125  0.535  0.356 -1.288 -0.693  0.153 -0.157  0.15 ]\n",
      " [ 1.531 -0.591  0.356  1.033 -0.693  0.115  0.583  1.086]\n",
      " [-0.548 -0.967 -0.057  1.346 -0.693  0.788  0.094 -0.531]\n",
      " [ 0.046 -0.31   0.15   1.66   1.104  0.648  2.773  1.937]\n",
      " [-0.251  1.85  -0.264  0.28  -0.085  0.255 -0.607 -0.616]\n",
      " [ 0.937  0.379  0.77  -1.288 -0.693  1.042  0.677  0.32 ]\n",
      " [ 0.937 -0.466  1.184 -0.159 -0.693 -1.179 -0.715  1.256]\n",
      " [ 1.531  1.568  2.114  0.217  1.391  1.702  0.752  1.766]\n",
      " [ 0.937  1.193 -0.264 -1.288 -0.693 -0.583 -0.537  0.575]\n",
      " [-1.142  1.85  -0.161  1.158 -0.693  1.27   4.292 -0.701]\n",
      " [-0.845  0.786 -0.678 -1.288 -0.693 -0.291  0.278 -0.361]\n",
      " [-0.548 -1.562  0.046  0.405 -0.693 -0.507  0.345 -0.956]\n",
      " [ 0.937 -0.56  -0.161  0.719 -0.693  0.902 -0.386 -0.191]\n",
      " [ 0.937 -0.497 -3.573 -1.288 -0.693 -4.06  -0.504 -0.786]]\n"
     ]
    }
   ],
   "source": [
    "X = array[:,0:8]\n",
    "Y = array[:,8]\n",
    "scaler = StandardScaler().fit(X)\n",
    "rescaledX = scaler.transform(X)\n",
    "# summarize transformed data\n",
    "set_printoptions(precision=3)\n",
    "print(rescaledX[30:50,:])"
   ]
  },
  {
   "cell_type": "code",
   "execution_count": 11,
   "metadata": {},
   "outputs": [
    {
     "data": {
      "text/plain": [
       "preg     0.901674\n",
       "plas     0.173754\n",
       "pres    -1.843608\n",
       "skin     0.109372\n",
       "test     2.272251\n",
       "mass    -0.428982\n",
       "pedi     1.919911\n",
       "age      1.129597\n",
       "class    0.635017\n",
       "dtype: float64"
      ]
     },
     "execution_count": 11,
     "metadata": {},
     "output_type": "execute_result"
    }
   ],
   "source": [
    "dataframe.skew()"
   ]
  },
  {
   "cell_type": "code",
   "execution_count": 12,
   "metadata": {},
   "outputs": [
    {
     "data": {
      "text/plain": [
       "preg     0.159220\n",
       "plas     0.640780\n",
       "pres     5.180157\n",
       "skin    -0.520072\n",
       "test     7.214260\n",
       "mass     3.290443\n",
       "pedi     5.594954\n",
       "age      0.643159\n",
       "class   -1.600930\n",
       "dtype: float64"
      ]
     },
     "execution_count": 12,
     "metadata": {},
     "output_type": "execute_result"
    }
   ],
   "source": [
    "dataframe.kurt()"
   ]
  },
  {
   "cell_type": "code",
   "execution_count": 51,
   "metadata": {},
   "outputs": [
    {
     "name": "stdout",
     "output_type": "stream",
     "text": [
      "[[37.059 44.874 41.803 37.071 30.    40.015 34.688 39.667]\n",
      " [31.176 38.543 40.82  35.859 30.    37.928 32.331 33.333]\n",
      " [39.412 48.392 40.492 30.    30.    36.945 35.073 33.667]\n",
      " [31.176 38.945 40.82  34.646 32.222 38.376 30.76  30.   ]\n",
      " [30.    43.769 36.557 37.071 33.972 42.846 48.873 34.   ]]\n"
     ]
    }
   ],
   "source": [
    "X = array[:,0:8]\n",
    "Y = array[:,8]\n",
    "scaler = MinMaxScaler(feature_range=(30, 50))\n",
    "rescaledX = scaler.fit_transform(X)\n",
    "# summarize transformed data\n",
    "set_printoptions(precision=3)\n",
    "print(rescaledX[0:5,:])"
   ]
  },
  {
   "cell_type": "code",
   "execution_count": 10,
   "metadata": {},
   "outputs": [
    {
     "name": "stdout",
     "output_type": "stream",
     "text": [
      "Data:\n",
      "     0    1    2    3    4    5    6    7\n",
      "0   65   75   74   73   95   76   62  100\n",
      "1  101  102  103  107  157  160  191  192\n",
      "Kurtosis:\n",
      "0   -0.246357\n",
      "1   -2.044655\n",
      "dtype: float64\n",
      "Data:\n",
      "       0      1      2       3      4       5       6       7       8    9  \\\n",
      "0  70.00  90.00  90.00  100.00  120.0  120.00  100.00  121.00  125.00  115   \n",
      "1  58.22  39.33 -30.44   36.77   20.8  -73.95  -39.99   91.03 -138.01  -20   \n",
      "\n",
      "      10  \n",
      "0  112.0  \n",
      "1    NaN  \n",
      "Kurtosis:\n",
      "0    0.057451\n",
      "1    0.067184\n",
      "dtype: float64\n"
     ]
    }
   ],
   "source": [
    "import pandas as pd\n",
    "import numpy as np\n",
    "\n",
    "dataMatrix = [(65,75,74,73,95,76,62,100),(101,102,103,107,157,160,191,192)];\n",
    "dataFrame = pd.DataFrame(data=dataMatrix);\n",
    "kurt = dataFrame.kurt(axis=1);\n",
    "print(\"Data:\");\n",
    "print(dataFrame);\n",
    "print(\"Kurtosis:\");\n",
    "print(kurt);\n",
    "dataMatrix = [(70,90,90,100,120,120,100,121,125,115,112),\n",
    "\n",
    "                        (58.22,39.33,-30.44,36.77,20.80,-73.95,-39.99,91.03,-138.01,-20,None)];\n",
    "\n",
    "               \n",
    "\n",
    "dataFrame = pd.DataFrame(data=dataMatrix);\n",
    "\n",
    "kurt = dataFrame.kurt(axis=1);\n",
    "\n",
    "print(\"Data:\");\n",
    "\n",
    "print(dataFrame);\n",
    "\n",
    "print(\"Kurtosis:\");\n",
    "\n",
    "print(kurt)"
   ]
  },
  {
   "cell_type": "code",
   "execution_count": null,
   "metadata": {},
   "outputs": [],
   "source": []
  }
 ],
 "metadata": {
  "kernelspec": {
   "display_name": "Python 3",
   "language": "python",
   "name": "python3"
  },
  "language_info": {
   "codemirror_mode": {
    "name": "ipython",
    "version": 3
   },
   "file_extension": ".py",
   "mimetype": "text/x-python",
   "name": "python",
   "nbconvert_exporter": "python",
   "pygments_lexer": "ipython3",
   "version": "3.7.4"
  }
 },
 "nbformat": 4,
 "nbformat_minor": 2
}
